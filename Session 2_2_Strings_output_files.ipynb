{
 "cells": [
  {
   "cell_type": "markdown",
   "metadata": {},
   "source": [
    "# Part 2. String operations, formatted output, basic file I/O"
   ]
  },
  {
   "cell_type": "markdown",
   "metadata": {},
   "source": [
    "A string is a sequence of characters, enclosed with a single qoute `'` or double quote `\"`. This data type allows Python to manipulate textual information, produce output, parse textual and data files."
   ]
  },
  {
   "cell_type": "code",
   "execution_count": 1,
   "metadata": {
    "collapsed": false
   },
   "outputs": [
    {
     "data": {
      "text/plain": [
       "'This is a string'"
      ]
     },
     "execution_count": 1,
     "metadata": {},
     "output_type": "execute_result"
    }
   ],
   "source": [
    "\"This is a string\""
   ]
  },
  {
   "cell_type": "code",
   "execution_count": 2,
   "metadata": {
    "collapsed": false
   },
   "outputs": [
    {
     "data": {
      "text/plain": [
       "'Another one'"
      ]
     },
     "execution_count": 2,
     "metadata": {},
     "output_type": "execute_result"
    }
   ],
   "source": [
    "'Another one'"
   ]
  },
  {
   "cell_type": "markdown",
   "metadata": {},
   "source": [
    "There is no difference between using single of double quotes, its just that in the first case you can't have double quotes inside the string, while in the second case - singe quotes. "
   ]
  },
  {
   "cell_type": "code",
   "execution_count": 3,
   "metadata": {
    "collapsed": false
   },
   "outputs": [
    {
     "data": {
      "text/plain": [
       "'String with a \"double quote\" '"
      ]
     },
     "execution_count": 3,
     "metadata": {},
     "output_type": "execute_result"
    }
   ],
   "source": [
    "'String with a \"double quote\" '"
   ]
  },
  {
   "cell_type": "code",
   "execution_count": 4,
   "metadata": {
    "collapsed": false
   },
   "outputs": [
    {
     "data": {
      "text/plain": [
       "\"string with a 'single quote' \""
      ]
     },
     "execution_count": 4,
     "metadata": {},
     "output_type": "execute_result"
    }
   ],
   "source": [
    "\"string with a 'single quote' \""
   ]
  },
  {
   "cell_type": "markdown",
   "metadata": {},
   "source": [
    "If you need them anyway you use special symbols \\' or \\\" (backslash used to introduce a special symbol in a string)"
   ]
  },
  {
   "cell_type": "code",
   "execution_count": 5,
   "metadata": {
    "collapsed": false
   },
   "outputs": [
    {
     "data": {
      "text/plain": [
       "'String with a \\'single quote\\' and a \"double quote\"'"
      ]
     },
     "execution_count": 5,
     "metadata": {},
     "output_type": "execute_result"
    }
   ],
   "source": [
    "'String with a \\'single quote\\' and a \"double quote\"'"
   ]
  },
  {
   "cell_type": "markdown",
   "metadata": {},
   "source": [
    "When you display the string as above you don't see how special symbols work. But when you use the print function all the special symbols are formatted appropriately"
   ]
  },
  {
   "cell_type": "code",
   "execution_count": 6,
   "metadata": {
    "collapsed": false
   },
   "outputs": [
    {
     "name": "stdout",
     "output_type": "stream",
     "text": [
      "String with a 'single quote' and a \"double quote\"\n"
     ]
    }
   ],
   "source": [
    "print('String with a \\'single quote\\' and a \"double quote\"')"
   ]
  },
  {
   "cell_type": "code",
   "execution_count": 7,
   "metadata": {
    "collapsed": false
   },
   "outputs": [
    {
     "name": "stdout",
     "output_type": "stream",
     "text": [
      "String with a 'single quote' and a \"double quote\"\n"
     ]
    }
   ],
   "source": [
    "# or can be used without parenthesis - \"native\" Python 2 syntax. NOTE: this won't work in Python 3!!!\n",
    "print 'String with a \\'single quote\\' and a \"double quote\"'"
   ]
  },
  {
   "cell_type": "markdown",
   "metadata": {},
   "source": [
    "Or can use the following trick without any use of special symbols:"
   ]
  },
  {
   "cell_type": "code",
   "execution_count": 8,
   "metadata": {
    "collapsed": false
   },
   "outputs": [
    {
     "name": "stdout",
     "output_type": "stream",
     "text": [
      "String with a 'single quote' and a \"double quote\"\n"
     ]
    }
   ],
   "source": [
    "print(\"String with a 'single quote'\"+' and a \"double quote\"')"
   ]
  },
  {
   "cell_type": "markdown",
   "metadata": {},
   "source": [
    "But wait... If backslash is used to introduce special symbols, how to have backslash itself inside the string?"
   ]
  },
  {
   "cell_type": "code",
   "execution_count": 9,
   "metadata": {
    "collapsed": false
   },
   "outputs": [
    {
     "name": "stdout",
     "output_type": "stream",
     "text": [
      "String with a backslash \\\n"
     ]
    }
   ],
   "source": [
    "# then you use a special symbol \\\\\n",
    "print(\"String with a backslash \\\\\")"
   ]
  },
  {
   "cell_type": "code",
   "execution_count": 10,
   "metadata": {
    "collapsed": false
   },
   "outputs": [
    {
     "data": {
      "text/plain": [
       "'Multiple line string'"
      ]
     },
     "execution_count": 10,
     "metadata": {},
     "output_type": "execute_result"
    }
   ],
   "source": [
    "#you can also span the string definition through multiple lines using backslash `\\`\n",
    "'Multiple \\\n",
    "line \\\n",
    "string'"
   ]
  },
  {
   "cell_type": "code",
   "execution_count": 11,
   "metadata": {
    "collapsed": false
   },
   "outputs": [
    {
     "data": {
      "text/plain": [
       "'\\nMultiple\\nline \\nstring\\n'"
      ]
     },
     "execution_count": 11,
     "metadata": {},
     "output_type": "execute_result"
    }
   ],
   "source": [
    "#Alternatively can also use triple quotes. \n",
    "#This way 'end of line' special symbol will be added at the end of each line\n",
    "#Its a bit inconvenient though as you do not see if there are any spaces in the end of each line\n",
    "\"\"\"\n",
    "Multiple\n",
    "line \n",
    "string\n",
    "\"\"\""
   ]
  },
  {
   "cell_type": "markdown",
   "metadata": {},
   "source": [
    "Also notice that `end of line` is denoted by `\\n` - another special symbol. Below is a comprehensive list of available special symbols"
   ]
  },
  {
   "cell_type": "markdown",
   "metadata": {},
   "source": [
    "|Syntaxt | Special character | \n",
    "|---|---|\n",
    "|\\\\\\\\\t| Backslash (\\)|\n",
    "|\\'\t|Single quote (')|\n",
    "|\\\"\t|Double quote (\")|\n",
    "|\\a\t|Bell (BEL)|\n",
    "|\\b\t|Backspace (BS)|\n",
    "|\\f\t|Formfeed (FF)|\n",
    "|\\n\t|End of line (EOL)|\n",
    "|\\r\t|Carriage Return (CR)|\n",
    "|\\t\t|Horizontal Tab (TAB)|\n",
    "|\\v\t|Vertical Tab (VT)|\n",
    "|\\o.. |ASCII character with octal value ..|\n",
    "|\\x... | ASCII character with hex value ...|"
   ]
  },
  {
   "cell_type": "markdown",
   "metadata": {},
   "source": [
    "But what if we whant to have a directory path in a sring (a pretty common use case) and do not want its multiple backslashes to introduce special symbols like below? "
   ]
  },
  {
   "cell_type": "code",
   "execution_count": 12,
   "metadata": {
    "collapsed": false
   },
   "outputs": [
    {
     "name": "stdout",
     "output_type": "stream",
     "text": [
      "ac\b\n"
     ]
    }
   ],
   "source": [
    "print('ac\\b')"
   ]
  },
  {
   "cell_type": "code",
   "execution_count": 13,
   "metadata": {
    "collapsed": false
   },
   "outputs": [
    {
     "name": "stdout",
     "output_type": "stream",
     "text": [
      "C:\n",
      "ame of folder\\subfolder\n",
      "ewfile.txt\n"
     ]
    }
   ],
   "source": [
    "print('C:\\name of folder\\subfolder\\newfile.txt')"
   ]
  },
  {
   "cell_type": "code",
   "execution_count": 14,
   "metadata": {
    "collapsed": false
   },
   "outputs": [
    {
     "name": "stdout",
     "output_type": "stream",
     "text": [
      "C:\\name of folder\\subfolder\\newfile.txt\n"
     ]
    }
   ],
   "source": [
    "#prefix 'r' before the string directs python to use 'raw' string without special symbols\n",
    "print(r'C:\\name of folder\\subfolder\\newfile.txt')"
   ]
  },
  {
   "cell_type": "markdown",
   "metadata": {},
   "source": [
    "another useful prefix is 'u' directing python to use unicode in the string definition (this becomes default option in Python 3) "
   ]
  },
  {
   "cell_type": "code",
   "execution_count": 15,
   "metadata": {
    "collapsed": false
   },
   "outputs": [
    {
     "name": "stdout",
     "output_type": "stream",
     "text": [
      "A unicode Ǝ string ñ\n"
     ]
    }
   ],
   "source": [
    "print(u'A unicode \\u018e string \\xf1')"
   ]
  },
  {
   "cell_type": "markdown",
   "metadata": {},
   "source": [
    "As any other data type strings can be assigned to variables"
   ]
  },
  {
   "cell_type": "code",
   "execution_count": 16,
   "metadata": {
    "collapsed": true
   },
   "outputs": [],
   "source": [
    "A='string data'"
   ]
  },
  {
   "cell_type": "code",
   "execution_count": 17,
   "metadata": {
    "collapsed": false
   },
   "outputs": [
    {
     "data": {
      "text/plain": [
       "'string data'"
      ]
     },
     "execution_count": 17,
     "metadata": {},
     "output_type": "execute_result"
    }
   ],
   "source": [
    "B=A; B"
   ]
  },
  {
   "cell_type": "markdown",
   "metadata": {
    "collapsed": true
   },
   "source": [
    "## String operations"
   ]
  },
  {
   "cell_type": "markdown",
   "metadata": {},
   "source": [
    "As string is a sequence of characters and it is similar to a list (in fact both - strings and lists are both subspecies of a more common class - sequence), just that all the elements are of the same character type. More precisely, they are rather similar to a tuple as they are immutable. So the string operations inherit a lot from them, including indexing, slicing and concatenation."
   ]
  },
  {
   "cell_type": "code",
   "execution_count": 18,
   "metadata": {
    "collapsed": true
   },
   "outputs": [],
   "source": [
    "A='String is a sequence of characters'"
   ]
  },
  {
   "cell_type": "code",
   "execution_count": 19,
   "metadata": {
    "collapsed": false
   },
   "outputs": [
    {
     "data": {
      "text/plain": [
       "'S'"
      ]
     },
     "execution_count": 19,
     "metadata": {},
     "output_type": "execute_result"
    }
   ],
   "source": [
    "A[0]"
   ]
  },
  {
   "cell_type": "code",
   "execution_count": 20,
   "metadata": {
    "collapsed": false
   },
   "outputs": [
    {
     "data": {
      "text/plain": [
       "'String'"
      ]
     },
     "execution_count": 20,
     "metadata": {},
     "output_type": "execute_result"
    }
   ],
   "source": [
    "A[:6]"
   ]
  },
  {
   "cell_type": "code",
   "execution_count": 21,
   "metadata": {
    "collapsed": false
   },
   "outputs": [
    {
     "data": {
      "text/plain": [
       "'characters'"
      ]
     },
     "execution_count": 21,
     "metadata": {},
     "output_type": "execute_result"
    }
   ],
   "source": [
    "A[-10:]"
   ]
  },
  {
   "cell_type": "code",
   "execution_count": 22,
   "metadata": {
    "collapsed": false
   },
   "outputs": [
    {
     "data": {
      "text/plain": [
       "'Stringcharacters'"
      ]
     },
     "execution_count": 22,
     "metadata": {},
     "output_type": "execute_result"
    }
   ],
   "source": [
    "A[:6]+A[-10:]"
   ]
  },
  {
   "cell_type": "code",
   "execution_count": 23,
   "metadata": {
    "collapsed": false
   },
   "outputs": [
    {
     "data": {
      "text/plain": [
       "'aaa'"
      ]
     },
     "execution_count": 23,
     "metadata": {},
     "output_type": "execute_result"
    }
   ],
   "source": [
    "'a'*3"
   ]
  },
  {
   "cell_type": "code",
   "execution_count": 24,
   "metadata": {
    "collapsed": false
   },
   "outputs": [
    {
     "data": {
      "text/plain": [
       "'sretcarahc fo ecneuqes a si gnirtS'"
      ]
     },
     "execution_count": 24,
     "metadata": {},
     "output_type": "execute_result"
    }
   ],
   "source": [
    "A[::-1]"
   ]
  },
  {
   "cell_type": "code",
   "execution_count": 25,
   "metadata": {
    "collapsed": true
   },
   "outputs": [],
   "source": [
    "#Just like with tuples modification through assignment is not allowed\n",
    "#A[0]='A' "
   ]
  },
  {
   "cell_type": "markdown",
   "metadata": {},
   "source": [
    "Below is a list of useful build-in string methods. All are called as <string>.method(parameters) and return a modified copy of the string (original string is immutable)"
   ]
  },
  {
   "cell_type": "markdown",
   "metadata": {},
   "source": [
    "| Syntax | Key parameters | Function | \n",
    "|---|---|---|\n",
    "| count | substr, rb,re (default = 0,-1)| returns the number of occurrences of a *substr* within a range string[rb:re]|\n",
    "| find\t| substr, rb,re (default = 0,-1)| returns the index of first occurrence of a *substr* within a range string[rb:re], if no occurrence then -1 |\n",
    "| rfind\t| substr, rb,re (default = 0,-1)| returns the index of last occurrence of a *substr* within a range string[rb:re], if no occurrence then -1 |\n",
    "| index\t| substr, rb,re (default = 0,-1)| same as find, but raises an exception if no occurrence |\n",
    "| split | s (defalt=' ') | Splits a string into a list of its parts (words) separated by a separator s |\n",
    "| strip | chars (default='') | Removes all characters from *chars* from a right or left | \n",
    "| rstrip | chars (default='') | Removes all characters from *chars* from the right |\n",
    "| rstrip | chars (default='') | Removes all characters from *chars* from the left |\n",
    "| replace | substr1, substr2, count | replaces all occurances of *substr1* with *substr2* up to *count* times|\n",
    "| join | L | joints the strings from a list L putting instances of a given string between them |\n",
    "| min | - | minimum alphabetical character from the string |\n",
    "| max | - | maximum alphabetical character from the string |\n",
    "| upper | - | turns all string characters to upper case |\n",
    "| lower | - | turns all string characters to lower case |\n",
    "| capitalize | - | first (only) letter capitalized |\n",
    "| center | n,c(default =' ') | centers the string within a larger one of length n filled with c |\n",
    "| rjust | n,c(default =' ')| right-justifies the string within a larger one of length n filled with c |\n",
    "| ljust | n,c(default =' ')| left-justifies the string within a larger one of length n filled with c |\n",
    "| isdigit | - | checks if the string consists of all numeric characters |"
   ]
  },
  {
   "cell_type": "markdown",
   "metadata": {},
   "source": [
    "Some examples below"
   ]
  },
  {
   "cell_type": "code",
   "execution_count": 26,
   "metadata": {
    "collapsed": false
   },
   "outputs": [
    {
     "data": {
      "text/plain": [
       "4"
      ]
     },
     "execution_count": 26,
     "metadata": {},
     "output_type": "execute_result"
    }
   ],
   "source": [
    "'AAbAAAAcAAd'.count('AA')"
   ]
  },
  {
   "cell_type": "code",
   "execution_count": 27,
   "metadata": {
    "collapsed": false
   },
   "outputs": [
    {
     "data": {
      "text/plain": [
       "True"
      ]
     },
     "execution_count": 27,
     "metadata": {},
     "output_type": "execute_result"
    }
   ],
   "source": [
    "'12345'.isdigit()"
   ]
  },
  {
   "cell_type": "code",
   "execution_count": 28,
   "metadata": {
    "collapsed": false
   },
   "outputs": [
    {
     "data": {
      "text/plain": [
       "'A-:-B-:-C'"
      ]
     },
     "execution_count": 28,
     "metadata": {},
     "output_type": "execute_result"
    }
   ],
   "source": [
    "'-:-'.join(['A','B','C'])"
   ]
  },
  {
   "cell_type": "code",
   "execution_count": 29,
   "metadata": {
    "collapsed": false
   },
   "outputs": [
    {
     "data": {
      "text/plain": [
       "'ABCD'"
      ]
     },
     "execution_count": 29,
     "metadata": {},
     "output_type": "execute_result"
    }
   ],
   "source": [
    "'abcd'.upper()"
   ]
  },
  {
   "cell_type": "code",
   "execution_count": 30,
   "metadata": {
    "collapsed": false
   },
   "outputs": [
    {
     "data": {
      "text/plain": [
       "3"
      ]
     },
     "execution_count": 30,
     "metadata": {},
     "output_type": "execute_result"
    }
   ],
   "source": [
    "'ACBC'.rfind('C')"
   ]
  },
  {
   "cell_type": "code",
   "execution_count": 31,
   "metadata": {
    "collapsed": false
   },
   "outputs": [
    {
     "data": {
      "text/plain": [
       "2"
      ]
     },
     "execution_count": 31,
     "metadata": {},
     "output_type": "execute_result"
    }
   ],
   "source": [
    "'ACBC'.count('C')"
   ]
  },
  {
   "cell_type": "code",
   "execution_count": 32,
   "metadata": {
    "collapsed": false
   },
   "outputs": [
    {
     "data": {
      "text/plain": [
       "'ABBA'"
      ]
     },
     "execution_count": 32,
     "metadata": {},
     "output_type": "execute_result"
    }
   ],
   "source": [
    "'acbABBAaba'.strip('abc')"
   ]
  },
  {
   "cell_type": "code",
   "execution_count": 33,
   "metadata": {
    "collapsed": false
   },
   "outputs": [
    {
     "data": {
      "text/plain": [
       "'Python is a useful tool for data science. I love Python!'"
      ]
     },
     "execution_count": 33,
     "metadata": {},
     "output_type": "execute_result"
    }
   ],
   "source": [
    "'Matlab is a useful tool for data science. I love Matlab!'.replace('Matlab','Python')"
   ]
  },
  {
   "cell_type": "code",
   "execution_count": 34,
   "metadata": {
    "collapsed": false
   },
   "outputs": [
    {
     "data": {
      "text/plain": [
       "['Sentence', 'contains', 'multiple', 'words']"
      ]
     },
     "execution_count": 34,
     "metadata": {},
     "output_type": "execute_result"
    }
   ],
   "source": [
    "'Sentence contains multiple words'.split()"
   ]
  },
  {
   "cell_type": "code",
   "execution_count": 35,
   "metadata": {
    "collapsed": false
   },
   "outputs": [
    {
     "data": {
      "text/plain": [
       "'*****Python*****'"
      ]
     },
     "execution_count": 35,
     "metadata": {},
     "output_type": "execute_result"
    }
   ],
   "source": [
    "'Python'.center(16,'*')"
   ]
  },
  {
   "cell_type": "markdown",
   "metadata": {},
   "source": [
    "### Excercise 1. \n",
    "Implement a function taking a list of strings and producing a set of words they contain all together"
   ]
  },
  {
   "cell_type": "code",
   "execution_count": 2,
   "metadata": {
    "collapsed": false
   },
   "outputs": [],
   "source": [
    "def GetWords(L):\n",
    "    return set(' '.join(L).split())"
   ]
  },
  {
   "cell_type": "code",
   "execution_count": 3,
   "metadata": {
    "collapsed": false
   },
   "outputs": [
    {
     "data": {
      "text/plain": [
       "{'First', 'Second', 'phrase'}"
      ]
     },
     "execution_count": 3,
     "metadata": {},
     "output_type": "execute_result"
    }
   ],
   "source": [
    "GetWords(['First phrase','Second phrase'])"
   ]
  },
  {
   "cell_type": "markdown",
   "metadata": {},
   "source": [
    "### Excercise 2. \n",
    "Implement a function taking a string, turning it to lower case and removing all spaces and vowel letters"
   ]
  },
  {
   "cell_type": "code",
   "execution_count": 4,
   "metadata": {
    "collapsed": true
   },
   "outputs": [],
   "source": [
    "def remVowels(L):\n",
    "    vowels=['a','e','o','i','u',' ']\n",
    "    L=L.lower()\n",
    "    for v in vowels:\n",
    "        L=L.replace(v,'')\n",
    "    return L"
   ]
  },
  {
   "cell_type": "code",
   "execution_count": 5,
   "metadata": {
    "collapsed": false
   },
   "outputs": [
    {
     "data": {
      "text/plain": [
       "'thsssntnc'"
      ]
     },
     "execution_count": 5,
     "metadata": {},
     "output_type": "execute_result"
    }
   ],
   "source": [
    "remVowels('This is a sentence')"
   ]
  },
  {
   "cell_type": "markdown",
   "metadata": {},
   "source": [
    "## Console input"
   ]
  },
  {
   "cell_type": "markdown",
   "metadata": {},
   "source": [
    "Python allows to read string input from console"
   ]
  },
  {
   "cell_type": "code",
   "execution_count": 26,
   "metadata": {
    "collapsed": false
   },
   "outputs": [
    {
     "name": "stdout",
     "output_type": "stream",
     "text": [
      "Enter your input: abc\n"
     ]
    },
    {
     "data": {
      "text/plain": [
       "'abc'"
      ]
     },
     "execution_count": 26,
     "metadata": {},
     "output_type": "execute_result"
    }
   ],
   "source": [
    "s = raw_input(\"Enter your input: \")\n",
    "s"
   ]
  },
  {
   "cell_type": "code",
   "execution_count": 29,
   "metadata": {
    "collapsed": false
   },
   "outputs": [
    {
     "name": "stdout",
     "output_type": "stream",
     "text": [
      "Enter your input: 1,2,3,4,5\n"
     ]
    },
    {
     "data": {
      "text/plain": [
       "[1.0, 2.0, 3.0, 4.0, 5.0]"
      ]
     },
     "execution_count": 29,
     "metadata": {},
     "output_type": "execute_result"
    }
   ],
   "source": [
    "#parse input as a list of float numbers\n",
    "L = raw_input(\"Enter your input: \").split(',') #split the input string to a list of comma-separate inputs\n",
    "L = map(float,L) # convert all inputs of a list to float using map\n",
    "L"
   ]
  },
  {
   "cell_type": "markdown",
   "metadata": {},
   "source": [
    "### Basic file I/O"
   ]
  },
  {
   "cell_type": "code",
   "execution_count": 5,
   "metadata": {
    "collapsed": false
   },
   "outputs": [],
   "source": [
    "#output elements of the string list to a file\n",
    "L=['aa','bb','cc']\n",
    "fo = open(\"output.txt\", \"wb\") # Open a file for output ('w'), binary mode ('b')\n",
    "fo.write('Elements of the list:\\n'); #write a line to a file\n",
    "for i in range(0,len(L)): #for all elements of the list\n",
    "    fo.write('Element '+str(i+1)+':'+L[i]+'\\n') #write them to a file\n",
    "fo.close() #close a file"
   ]
  },
  {
   "cell_type": "code",
   "execution_count": 11,
   "metadata": {
    "collapsed": false
   },
   "outputs": [
    {
     "data": {
      "text/plain": [
       "['aa', 'bb', 'cc']"
      ]
     },
     "execution_count": 11,
     "metadata": {},
     "output_type": "execute_result"
    }
   ],
   "source": [
    "#input elements of the list from the file above\n",
    "fo = open(\"output.txt\", \"r\") # Open a file for input ('r'), binary mode ('b')\n",
    "fo.readline(); #read and skip the title line\n",
    "L=[]\n",
    "line=fo.readline() #read another line\n",
    "while line: #while input is non-empty (i.e. there was smth to read)\n",
    "    L+=[line.split(':')[1][:-1]] #add new input to the list, excluding EOL symbol\n",
    "    line=fo.readline() #read another line\n",
    "fo.close() #close a file\n",
    "L"
   ]
  },
  {
   "cell_type": "markdown",
   "metadata": {},
   "source": [
    "## Formatted output"
   ]
  },
  {
   "cell_type": "markdown",
   "metadata": {},
   "source": [
    "One of the common uses of string data is generating output. But apart from simply printing the string, Python provides powerful ways of customizing the output through string formatting. Besides from using all the power of string processing tools to prepare the output string yourself, you can use a `format` method where any quantities to substitute will be passed as parameters.\n",
    "\n",
    "Python 3 provides an alternative using formatted string literal: put `f` in front of the string then simply use variable names in curly braces to substitite their values into the string. This is not supported in Python 2, however there is a wayaround as shown below."
   ]
  },
  {
   "cell_type": "code",
   "execution_count": 40,
   "metadata": {
    "collapsed": false
   },
   "outputs": [
    {
     "data": {
      "text/plain": [
       "'Value of A=10, while B=20'"
      ]
     },
     "execution_count": 40,
     "metadata": {},
     "output_type": "execute_result"
    }
   ],
   "source": [
    "#use of format method\n",
    "'Value of A={}, while B={}'.format(10,20)"
   ]
  },
  {
   "cell_type": "code",
   "execution_count": 41,
   "metadata": {
    "collapsed": false
   },
   "outputs": [
    {
     "data": {
      "text/plain": [
       "'Value of A=10, while B=20'"
      ]
     },
     "execution_count": 41,
     "metadata": {},
     "output_type": "execute_result"
    }
   ],
   "source": [
    "#can also reference the values to substitute by name providing those as arguments in the format\n",
    "B=20\n",
    "'Value of A={A}, while B={B}'.format(A=10,B=B)"
   ]
  },
  {
   "cell_type": "code",
   "execution_count": 42,
   "metadata": {
    "collapsed": false
   },
   "outputs": [
    {
     "data": {
      "text/plain": [
       "'Value of A=10, while B=20'"
      ]
     },
     "execution_count": 42,
     "metadata": {},
     "output_type": "execute_result"
    }
   ],
   "source": [
    "#example of a Python 2 way around for using a notion similar to Python 3 formatted strings\n",
    "A=10; B=20\n",
    "#Python 3 will allow you to simply write\n",
    "#f'Value of A={A}, while B={B}'\n",
    "#in Python 2 you can:\n",
    "'Value of A={A}, while B={B}'.format(**locals())\n",
    "#can also use **globals() to access global variables"
   ]
  },
  {
   "cell_type": "code",
   "execution_count": 43,
   "metadata": {
    "collapsed": false
   },
   "outputs": [
    {
     "data": {
      "text/plain": [
       "'Value of C=abc, while B=2.1522 and A=10'"
      ]
     },
     "execution_count": 43,
     "metadata": {},
     "output_type": "execute_result"
    }
   ],
   "source": [
    "#one can reorder the values to substitute\n",
    "'Value of C={2}, while B={1} and A={0}'.format(10,2.1522,'abc')"
   ]
  },
  {
   "cell_type": "code",
   "execution_count": 44,
   "metadata": {
    "collapsed": false
   },
   "outputs": [
    {
     "data": {
      "text/plain": [
       "'Value of A=10, while B=2.15 and C=***abc****'"
      ]
     },
     "execution_count": 44,
     "metadata": {},
     "output_type": "execute_result"
    }
   ],
   "source": [
    "#or provide specific formatting instructions (like using only 2 decimal digits)\n",
    "'Value of A={:d}, while B={:.2f} and C={:*^10}'.format(10,2.1522,'abc')"
   ]
  },
  {
   "cell_type": "code",
   "execution_count": 45,
   "metadata": {
    "collapsed": false
   },
   "outputs": [
    {
     "data": {
      "text/plain": [
       "'Value of A=10, B=2.15, while S=abc'"
      ]
     },
     "execution_count": 45,
     "metadata": {},
     "output_type": "execute_result"
    }
   ],
   "source": [
    "#another way of passing values to the string to format, specifying their type and giving additional formatting instructions\n",
    "'Value of A=%d, B=%.2f, while S=%s' % (10,2.1522,'abc')"
   ]
  },
  {
   "cell_type": "markdown",
   "metadata": {},
   "source": [
    "More details on the string formatting and other useful methods could be found at \n",
    "https://docs.python.org/2/library/string.html"
   ]
  },
  {
   "cell_type": "markdown",
   "metadata": {},
   "source": [
    "### Example 3. Output a list of random variable distributions "
   ]
  },
  {
   "cell_type": "markdown",
   "metadata": {},
   "source": [
    "You are given a list of tuples L characterizing random variables. Each tuple consists of three elements - first element stands for the distributions type (0-Uniform, 1-Normal, 2-Lognormal), two others - parameters of the distribution (mu and sigma^2 for Normal/lognormal and a,b for Uniform). You need to create a function taking this list as an input and producing an output as a series of strings like:\n",
    "\n",
    "`Variable 1: Normal(1.00,0.10)`\n",
    "\n",
    "`Variable 2: Uniform(-2.00,2.00)`\n",
    "\n",
    "presenting distribution parameters with 2 decimal digits; variables are numbered as 1,2,3,...\n",
    "\n",
    "*Hint* use a dictionary to convert distribution number to string identifier"
   ]
  },
  {
   "cell_type": "code",
   "execution_count": 8,
   "metadata": {
    "collapsed": true
   },
   "outputs": [],
   "source": [
    "#sample input\n",
    "L=[(0,0,1),(2,1,0.521),(1,0,0.101),(0,0,1),(0,1,0.2011),(1,3.1415926,1.1010)]"
   ]
  },
  {
   "cell_type": "code",
   "execution_count": 9,
   "metadata": {
    "collapsed": true
   },
   "outputs": [],
   "source": [
    "def PrintDistributions(L):\n",
    "    d={0:'Uniform', 1:'Normal', 2:'Lognormal'}\n",
    "    i=0;\n",
    "    for v in L:\n",
    "        i+=1\n",
    "        print('Variable %d: %s(%.2f,%.2f)' % (i,d[v[0]],v[1],v[2]))     "
   ]
  },
  {
   "cell_type": "code",
   "execution_count": 10,
   "metadata": {
    "collapsed": false
   },
   "outputs": [
    {
     "name": "stdout",
     "output_type": "stream",
     "text": [
      "Variable 1: Uniform(0.00,1.00)\n",
      "Variable 2: Lognormal(1.00,0.52)\n",
      "Variable 3: Normal(0.00,0.10)\n",
      "Variable 4: Uniform(0.00,1.00)\n",
      "Variable 5: Uniform(1.00,0.20)\n",
      "Variable 6: Normal(3.14,1.10)\n"
     ]
    }
   ],
   "source": [
    "PrintDistributions(L)"
   ]
  },
  {
   "cell_type": "markdown",
   "metadata": {},
   "source": [
    "While strings are often used as a formatted output, they can be also used as in input for further parsing.\n",
    "Python does not have a build-in direct \"inverse\" of format (like scanf in C++) but has a more powerful (although also more verbose)\n",
    "`regular expressions` instead.\n",
    "\n",
    "`re.search(<format string>,<input string>).groups()`\n",
    "\n",
    "could be used as below\n",
    "\n",
    "Please see \n",
    "https://docs.python.org/3/library/re.html#simulating-scanf  \n",
    "for a more comprehensive description"
   ]
  },
  {
   "cell_type": "code",
   "execution_count": 49,
   "metadata": {
    "collapsed": false
   },
   "outputs": [],
   "source": [
    "#import regular expressions\n",
    "import re"
   ]
  },
  {
   "cell_type": "code",
   "execution_count": 50,
   "metadata": {
    "collapsed": false
   },
   "outputs": [
    {
     "data": {
      "text/plain": [
       "('/usr/sbin/sendmail', '0', '4')"
      ]
     },
     "execution_count": 50,
     "metadata": {},
     "output_type": "execute_result"
    }
   ],
   "source": [
    "#parse a string using a regula \n",
    "re.search(r'(\\S+) - (\\d+) errors, (\\d+) warnings',r'/usr/sbin/sendmail - 0 errors, 4 warnings').groups()"
   ]
  },
  {
   "cell_type": "code",
   "execution_count": 51,
   "metadata": {
    "collapsed": false
   },
   "outputs": [
    {
     "data": {
      "text/plain": [
       "('A', '1')"
      ]
     },
     "execution_count": 51,
     "metadata": {},
     "output_type": "execute_result"
    }
   ],
   "source": [
    "#parse a string for values using a regular expression format specs \n",
    "re.search(r'Variable (\\S+) = (\\d+)',r'Variable A = 1').groups()"
   ]
  },
  {
   "cell_type": "markdown",
   "metadata": {},
   "source": [
    "Often one can apply specific parsing rules manually using split. E.g. consider an output as in the excercise 3\n",
    "\n",
    "`Normal(-1.1,0.1)`\n",
    "\n",
    "and try to parse it into the distribution name and the parameters\n"
   ]
  },
  {
   "cell_type": "code",
   "execution_count": 52,
   "metadata": {
    "collapsed": false
   },
   "outputs": [
    {
     "data": {
      "text/plain": [
       "'Normal,-1.1,0.1,'"
      ]
     },
     "execution_count": 52,
     "metadata": {},
     "output_type": "execute_result"
    }
   ],
   "source": [
    "#First replace all the delimiter symbols (,) as one comma delimiter\n",
    "S='Normal(-1.1,0.1)'\n",
    "S=S.replace('(',',').replace(')',','); S"
   ]
  },
  {
   "cell_type": "code",
   "execution_count": 53,
   "metadata": {
    "collapsed": false
   },
   "outputs": [
    {
     "data": {
      "text/plain": [
       "['Normal', '-1.1', '0.1', '']"
      ]
     },
     "execution_count": 53,
     "metadata": {},
     "output_type": "execute_result"
    }
   ],
   "source": [
    "#then use split to extract the elements of interest from the string\n",
    "E=S.split(','); E"
   ]
  },
  {
   "cell_type": "code",
   "execution_count": 54,
   "metadata": {
    "collapsed": false
   },
   "outputs": [
    {
     "data": {
      "text/plain": [
       "('Normal', -1.1, 0.1)"
      ]
     },
     "execution_count": 54,
     "metadata": {},
     "output_type": "execute_result"
    }
   ],
   "source": [
    "#Finally convert string representation of parameters into numeric format\n",
    "Distribution=E[0]\n",
    "A=float(E[1])\n",
    "B=float(E[2])\n",
    "Distribution,A,B"
   ]
  },
  {
   "cell_type": "markdown",
   "metadata": {},
   "source": [
    "### Example 4. Parse a list of random variable distributions"
   ]
  },
  {
   "cell_type": "markdown",
   "metadata": {},
   "source": [
    "Implement an inverse of an excercise 3: given a list of string outputs of excercise 3, parse it into a list of tuples encoding random variables as per the rules above"
   ]
  },
  {
   "cell_type": "code",
   "execution_count": 13,
   "metadata": {
    "collapsed": true
   },
   "outputs": [],
   "source": [
    "#Example of input:\n",
    "S=[\n",
    "'Variable 1: Uniform(0.00,1.00)',\n",
    "'Variable 2: Lognormal(1.00,0.52)',\n",
    "'Variable 3: Normal(0.00,0.10)',\n",
    "'Variable 4: Uniform(0.00,1.00)',\n",
    "'Variable 5: Uniform(1.00,0.20)',\n",
    "'Variable 6: Normal(3.14,1.10)'\n",
    "]    "
   ]
  },
  {
   "cell_type": "code",
   "execution_count": 14,
   "metadata": {
    "collapsed": true
   },
   "outputs": [],
   "source": [
    "def ParseDistributions(S):\n",
    "    d={'Uniform':0, 'Normal':1, 'Lognormal':2}\n",
    "    L=[]\n",
    "    for s in S:\n",
    "        v=s.replace(' ',',').replace('(',',').replace(')',',').split(',')\n",
    "        L+=[(d[v[2]],float(v[3]),float(v[4]))]\n",
    "    return L "
   ]
  },
  {
   "cell_type": "code",
   "execution_count": 15,
   "metadata": {
    "collapsed": false
   },
   "outputs": [
    {
     "data": {
      "text/plain": [
       "[(0, 0.0, 1.0),\n",
       " (2, 1.0, 0.52),\n",
       " (1, 0.0, 0.1),\n",
       " (0, 0.0, 1.0),\n",
       " (0, 1.0, 0.2),\n",
       " (1, 3.14, 1.1)]"
      ]
     },
     "execution_count": 15,
     "metadata": {},
     "output_type": "execute_result"
    }
   ],
   "source": [
    "ParseDistributions(S)"
   ]
  },
  {
   "cell_type": "code",
   "execution_count": null,
   "metadata": {
    "collapsed": true
   },
   "outputs": [],
   "source": []
  }
 ],
 "metadata": {
  "kernelspec": {
   "display_name": "Python 2",
   "language": "python",
   "name": "python2"
  },
  "language_info": {
   "codemirror_mode": {
    "name": "ipython",
    "version": 2
   },
   "file_extension": ".py",
   "mimetype": "text/x-python",
   "name": "python",
   "nbconvert_exporter": "python",
   "pygments_lexer": "ipython2",
   "version": "2.7.10"
  }
 },
 "nbformat": 4,
 "nbformat_minor": 1
}
